{
  "nbformat": 4,
  "nbformat_minor": 0,
  "metadata": {
    "colab": {
      "name": "A108260015陳政霆week７.ipynb",
      "provenance": [],
      "include_colab_link": true
    },
    "kernelspec": {
      "name": "python3",
      "display_name": "Python 3"
    }
  },
  "cells": [
    {
      "cell_type": "markdown",
      "metadata": {
        "id": "view-in-github",
        "colab_type": "text"
      },
      "source": [
        "<a href=\"https://colab.research.google.com/github/easymoneyboy/Computational-Thinking/blob/master/A108260015%E9%99%B3%E6%94%BF%E9%9C%86week%EF%BC%97.ipynb\" target=\"_parent\"><img src=\"https://colab.research.google.com/assets/colab-badge.svg\" alt=\"Open In Colab\"/></a>"
      ]
    },
    {
      "cell_type": "code",
      "metadata": {
        "id": "Y76WKvEjRgWO",
        "colab_type": "code",
        "outputId": "f5bcd5d1-1667-427d-a98c-82dbff3c89aa",
        "colab": {
          "base_uri": "https://localhost:8080/",
          "height": 34
        }
      },
      "source": [
        "s1 =\"123\"\n",
        "s2 = \"456\"\n",
        "\n",
        "s3 = s1 + s2 #字串連接\n",
        "print(s3)"
      ],
      "execution_count": 0,
      "outputs": [
        {
          "output_type": "stream",
          "text": [
            "123456\n"
          ],
          "name": "stdout"
        }
      ]
    },
    {
      "cell_type": "code",
      "metadata": {
        "id": "drFlihwRTTgL",
        "colab_type": "code",
        "outputId": "9322a0d6-f9c8-459f-c3cb-dbabf82763d3",
        "colab": {
          "base_uri": "https://localhost:8080/",
          "height": 85
        }
      },
      "source": [
        "#位置索引\n",
        "\n",
        "s = '0123456789'\n",
        "print(s[0]) #位置索引從0開始,不是1開始\n",
        "print('s[1]=', s[1])\n",
        "print(s[-1]) #從右到左倒過來的第一個位置,加負號\n",
        "print('s[-2]=', s[-2])"
      ],
      "execution_count": 0,
      "outputs": [
        {
          "output_type": "stream",
          "text": [
            "0\n",
            "s[1]= 1\n",
            "9\n",
            "s[-2]= 8\n"
          ],
          "name": "stdout"
        }
      ]
    },
    {
      "cell_type": "code",
      "metadata": {
        "id": "RPiykWLFTbz5",
        "colab_type": "code",
        "outputId": "7403240b-1cfa-4724-b7e8-438b2b9a11a2",
        "colab": {
          "base_uri": "https://localhost:8080/",
          "height": 204
        }
      },
      "source": [
        "#切片\n",
        "s = '0123456789'\n",
        "\n",
        "print('s=', s, 's[:]=', s[:]) #從頭到尾\n",
        "print('s=', s, 's[5:]=', s[5:]) #到尾\n",
        "print('s=', s, 's[-2:]=', s[-2:])\n",
        "print('s=', s, 's[:5]=', s[:5]) #從頭\n",
        "print('s=', s, 's[:-2]=', s[:-2])\n",
        "\n",
        "print('s=', s, 's[7:9]=', s[7:9])# 範圍\n",
        "print('s=', s, 's[-4:-1]=', s[-4:-1])\n",
        "print('s=', s, 's[5:-2]=', s[5:-2])\n",
        "print('s=', s, 's[2:10:2]=', s[2:10:2])\n",
        "print('s=', s, 's[::-1]=', s[::-1])\n",
        "print('s=', s, 's[-1::-1]=', s[-1::-1])"
      ],
      "execution_count": 0,
      "outputs": [
        {
          "output_type": "stream",
          "text": [
            "s= 0123456789 s[:]= 0123456789\n",
            "s= 0123456789 s[5:]= 56789\n",
            "s= 0123456789 s[-2:]= 89\n",
            "s= 0123456789 s[:5]= 01234\n",
            "s= 0123456789 s[:-2]= 01234567\n",
            "s= 0123456789 s[7:9]= 78\n",
            "s= 0123456789 s[-4:-1]= 678\n",
            "s= 0123456789 s[5:-2]= 567\n",
            "s= 0123456789 s[2:10:2]= 2468\n",
            "s= 0123456789 s[::-1]= 9876543210\n",
            "s= 0123456789 s[-1::-1]= 9876543210\n"
          ],
          "name": "stdout"
        }
      ]
    },
    {
      "cell_type": "code",
      "metadata": {
        "id": "_9AK1pZ6TlzC",
        "colab_type": "code",
        "outputId": "18b3109e-e947-432c-ef64-3f512e688beb",
        "colab": {
          "base_uri": "https://localhost:8080/",
          "height": 34
        }
      },
      "source": [
        "s = '春眠不覺曉,處處聞啼鳥,夜來風雨聲,花落知多少。'\n",
        "# 取得字串長度用len()函數\n",
        "\n",
        "print(len(s))"
      ],
      "execution_count": 0,
      "outputs": [
        {
          "output_type": "stream",
          "text": [
            "24\n"
          ],
          "name": "stdout"
        }
      ]
    },
    {
      "cell_type": "code",
      "metadata": {
        "id": "E-iqKkAIT0tB",
        "colab_type": "code",
        "colab": {}
      },
      "source": [
        ""
      ],
      "execution_count": 0,
      "outputs": []
    }
  ]
}