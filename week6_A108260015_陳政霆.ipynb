{
  "nbformat": 4,
  "nbformat_minor": 0,
  "metadata": {
    "colab": {
      "name": "week6-A108260015-陳政霆.ipynb",
      "provenance": [],
      "include_colab_link": true
    },
    "kernelspec": {
      "name": "python3",
      "display_name": "Python 3"
    }
  },
  "cells": [
    {
      "cell_type": "markdown",
      "metadata": {
        "id": "view-in-github",
        "colab_type": "text"
      },
      "source": [
        "<a href=\"https://colab.research.google.com/github/easymoneyboy/Computational-Thinking/blob/master/week6_A108260015_%E9%99%B3%E6%94%BF%E9%9C%86.ipynb\" target=\"_parent\"><img src=\"https://colab.research.google.com/assets/colab-badge.svg\" alt=\"Open In Colab\"/></a>"
      ]
    },
    {
      "cell_type": "code",
      "metadata": {
        "id": "hg_bFTOtGucR",
        "colab_type": "code",
        "outputId": "7e1f1387-5509-402c-db0d-9dd42c0b81b1",
        "colab": {
          "base_uri": "https://localhost:8080/",
          "height": 100
        }
      },
      "source": [
        "第一次期中考成績=int(input('請輸入成績?'))\n",
        "第二次期中考成績=int(input('請輸入成績?'))\n",
        "期末考成績=int(input('請輸入成績?'))\n",
        "\n",
        "總分=第一次期中考成績+第二次期中考成績+期末考成績\n",
        "print('總成績為',總分)\n",
        "平均=總分/3\n",
        "print('平均為',平均)\n"
      ],
      "execution_count": 0,
      "outputs": [
        {
          "output_type": "stream",
          "text": [
            "請輸入成績?75\n",
            "請輸入成績?80\n",
            "請輸入成績?65\n",
            "總成績為 220\n",
            "平均為 73.33333333333333\n"
          ],
          "name": "stdout"
        }
      ]
    },
    {
      "cell_type": "code",
      "metadata": {
        "id": "aYR37rSYJtW_",
        "colab_type": "code",
        "outputId": "3e535801-e701-4beb-f4eb-b5883d7682b4",
        "colab": {
          "base_uri": "https://localhost:8080/",
          "height": 67
        }
      },
      "source": [
        "c=float(input(\"請輸入幾尺\"))\n",
        "c=float(input(\"請輸入幾吋\"))\n",
        "f=(5*12+8)*2.54\n",
        "print('轉換成',f)"
      ],
      "execution_count": 0,
      "outputs": [
        {
          "output_type": "stream",
          "text": [
            "請輸入幾尺5\n",
            "請輸入幾吋8\n",
            "轉換成 172.72\n"
          ],
          "name": "stdout"
        }
      ]
    },
    {
      "cell_type": "code",
      "metadata": {
        "id": "fHm8qgbrKMSu",
        "colab_type": "code",
        "outputId": "99773714-32e7-4213-bba8-b055b86b09db",
        "colab": {
          "base_uri": "https://localhost:8080/",
          "height": 50
        }
      },
      "source": [
        "s=int(input('請輸入座號'))\n",
        "a=s/5\n",
        "組別=int(a+1)\n",
        "print('組別為',組別)"
      ],
      "execution_count": 0,
      "outputs": [
        {
          "output_type": "stream",
          "text": [
            "請輸入座號19\n",
            "組別為 4\n"
          ],
          "name": "stdout"
        }
      ]
    },
    {
      "cell_type": "code",
      "metadata": {
        "id": "76ndomtuKpkN",
        "colab_type": "code",
        "outputId": "98e039ca-9b6f-4596-9e45-14f3b985e4a2",
        "colab": {
          "base_uri": "https://localhost:8080/",
          "height": 50
        }
      },
      "source": [
        "飲料數量=int(input('輸入購買飲料的罐數'))\n",
        "飲料一打=int(飲料數量/12)\n",
        "飲料個數=int(飲料數量-飲料一打*12)\n",
        "一打價格=飲料一打*200\n",
        "個數價格=飲料個數*20\n",
        "總價=一打價格+個數價格\n",
        "print('需花費',總價)"
      ],
      "execution_count": 0,
      "outputs": [
        {
          "output_type": "stream",
          "text": [
            "輸入購買飲料的罐數30\n",
            "需花費 520\n"
          ],
          "name": "stdout"
        }
      ]
    }
  ]
}