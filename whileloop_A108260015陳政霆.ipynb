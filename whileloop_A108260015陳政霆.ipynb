{
  "nbformat": 4,
  "nbformat_minor": 0,
  "metadata": {
    "colab": {
      "name": "whileloop A108260015陳政霆.ipynb",
      "provenance": [],
      "include_colab_link": true
    },
    "kernelspec": {
      "name": "python3",
      "display_name": "Python 3"
    }
  },
  "cells": [
    {
      "cell_type": "markdown",
      "metadata": {
        "id": "view-in-github",
        "colab_type": "text"
      },
      "source": [
        "<a href=\"https://colab.research.google.com/github/easymoneyboy/Computational-Thinking/blob/master/whileloop_A108260015%E9%99%B3%E6%94%BF%E9%9C%86.ipynb\" target=\"_parent\"><img src=\"https://colab.research.google.com/assets/colab-badge.svg\" alt=\"Open In Colab\"/></a>"
      ]
    },
    {
      "cell_type": "code",
      "metadata": {
        "id": "KhHMxvi4rsE1",
        "colab_type": "code",
        "colab": {
          "base_uri": "https://localhost:8080/",
          "height": 153
        },
        "outputId": "2dc29d53-4cd3-4136-bddc-5e4454fee990"
      },
      "source": [
        "#while迴圈\n",
        "n = 1    #初始條件\n",
        "while n < 5: #判斷條件 True\n",
        "    print(\"變數n是\", n)\n",
        "    n=n+1 #更新條件\n",
        "    print(\"Finished\") #False\n"
      ],
      "execution_count": 7,
      "outputs": [
        {
          "output_type": "stream",
          "text": [
            "變數n是 1\n",
            "Finished\n",
            "變數n是 2\n",
            "Finished\n",
            "變數n是 3\n",
            "Finished\n",
            "變數n是 4\n",
            "Finished\n"
          ],
          "name": "stdout"
        }
      ]
    },
    {
      "cell_type": "code",
      "metadata": {
        "id": "qoWzOgiwtrhN",
        "colab_type": "code",
        "colab": {
          "base_uri": "https://localhost:8080/",
          "height": 187
        },
        "outputId": "12fefcce-2a44-481c-8b1e-22494287f19f"
      },
      "source": [
        "x=0\n",
        "while x < 10:\n",
        "    print(\"hello\")\n",
        "    x=x+1"
      ],
      "execution_count": 8,
      "outputs": [
        {
          "output_type": "stream",
          "text": [
            "hello\n",
            "hello\n",
            "hello\n",
            "hello\n",
            "hello\n",
            "hello\n",
            "hello\n",
            "hello\n",
            "hello\n",
            "hello\n"
          ],
          "name": "stdout"
        }
      ]
    },
    {
      "cell_type": "code",
      "metadata": {
        "id": "EqGapI3guHpF",
        "colab_type": "code",
        "colab": {
          "base_uri": "https://localhost:8080/",
          "height": 187
        },
        "outputId": "f5f2d800-c7c0-494a-aae4-3bc2e115a181"
      },
      "source": [
        "times=0 #初始條件\n",
        "while times < 10:  #判斷條件\n",
        "    print(\"這是第\", times, \"次的hello\")\n",
        "    times= times+1"
      ],
      "execution_count": 9,
      "outputs": [
        {
          "output_type": "stream",
          "text": [
            "這是第 0 次的hello\n",
            "這是第 1 次的hello\n",
            "這是第 2 次的hello\n",
            "這是第 3 次的hello\n",
            "這是第 4 次的hello\n",
            "這是第 5 次的hello\n",
            "這是第 6 次的hello\n",
            "這是第 7 次的hello\n",
            "這是第 8 次的hello\n",
            "這是第 9 次的hello\n"
          ],
          "name": "stdout"
        }
      ]
    },
    {
      "cell_type": "code",
      "metadata": {
        "id": "h2U0Rj01wT6S",
        "colab_type": "code",
        "colab": {
          "base_uri": "https://localhost:8080/",
          "height": 34
        },
        "outputId": "85f933e5-4efb-43e6-8d91-8d6f28e8bd2d"
      },
      "source": [
        "#記憶型迴圈\n",
        "\n",
        "x=0       #初始條件\n",
        "result=0\n",
        "\n",
        "#做十次\n",
        "while x <10:    #判斷條件\n",
        "    x=x+1       #更新條件\n",
        "    result=result+x\n",
        "\n",
        "print(\"最後加的X是\", x)   #最後結果"
      ],
      "execution_count": 10,
      "outputs": [
        {
          "output_type": "stream",
          "text": [
            "最後加的X是 10\n"
          ],
          "name": "stdout"
        }
      ]
    },
    {
      "cell_type": "code",
      "metadata": {
        "id": "EBPsZ8tJyJnB",
        "colab_type": "code",
        "colab": {
          "base_uri": "https://localhost:8080/",
          "height": 187
        },
        "outputId": "5bef61e8-b037-4e65-9e3c-d81a963a270b"
      },
      "source": [
        "x=0\n",
        "result=0\n",
        "\n",
        "while x < 10:\n",
        "    x=x+1\n",
        "    result=result+x\n",
        "\n",
        "    print(\"Answer is\", result)"
      ],
      "execution_count": 11,
      "outputs": [
        {
          "output_type": "stream",
          "text": [
            "Answer is 1\n",
            "Answer is 3\n",
            "Answer is 6\n",
            "Answer is 10\n",
            "Answer is 15\n",
            "Answer is 21\n",
            "Answer is 28\n",
            "Answer is 36\n",
            "Answer is 45\n",
            "Answer is 55\n"
          ],
          "name": "stdout"
        }
      ]
    },
    {
      "cell_type": "code",
      "metadata": {
        "id": "wujNyDuL0Np2",
        "colab_type": "code",
        "colab": {
          "base_uri": "https://localhost:8080/",
          "height": 34
        },
        "outputId": "170caa1c-35f7-455f-c904-e4a76a761e7a"
      },
      "source": [
        "sum=0\n",
        "x=1\n",
        "while x<11:\n",
        "  sum=sum+x\n",
        "  x=x+2\n",
        "print(\"1+3+5+7+9=\",sum)"
      ],
      "execution_count": 18,
      "outputs": [
        {
          "output_type": "stream",
          "text": [
            "1+3+5+7+9= 25\n"
          ],
          "name": "stdout"
        }
      ]
    },
    {
      "cell_type": "code",
      "metadata": {
        "id": "H1Tpybxb1doV",
        "colab_type": "code",
        "colab": {
          "base_uri": "https://localhost:8080/",
          "height": 34
        },
        "outputId": "919596d8-b622-4c28-eb70-6140d36cc851"
      },
      "source": [
        "sum=0\n",
        "i=0\n",
        "\n",
        "while sum <= 1000:\n",
        "    i += 1\n",
        "    sum += i*i\n",
        "print('最小的n值為', i)\n"
      ],
      "execution_count": 17,
      "outputs": [
        {
          "output_type": "stream",
          "text": [
            "最小的n值為 14\n"
          ],
          "name": "stdout"
        }
      ]
    }
  ]
}