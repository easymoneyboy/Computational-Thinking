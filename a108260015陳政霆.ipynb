{
  "nbformat": 4,
  "nbformat_minor": 0,
  "metadata": {
    "colab": {
      "name": "a108260015陳政霆.ipynb",
      "provenance": [],
      "include_colab_link": true
    },
    "kernelspec": {
      "name": "python3",
      "display_name": "Python 3"
    }
  },
  "cells": [
    {
      "cell_type": "markdown",
      "metadata": {
        "id": "view-in-github",
        "colab_type": "text"
      },
      "source": [
        "<a href=\"https://colab.research.google.com/github/easymoneyboy/Computational-Thinking/blob/master/a108260015%E9%99%B3%E6%94%BF%E9%9C%86.ipynb\" target=\"_parent\"><img src=\"https://colab.research.google.com/assets/colab-badge.svg\" alt=\"Open In Colab\"/></a>"
      ]
    },
    {
      "cell_type": "code",
      "metadata": {
        "id": "2QPm4i32q3Bz",
        "colab_type": "code",
        "colab": {
          "base_uri": "https://localhost:8080/",
          "height": 85
        },
        "outputId": "b8681959-3103-4c1d-c7a5-6a9fd0167578"
      },
      "source": [
        "i=1\n",
        "while(i<7):\n",
        "    print(i)\n",
        "    if  i ==4:\n",
        "        break\n",
        "    i = i + 1"
      ],
      "execution_count": 1,
      "outputs": [
        {
          "output_type": "stream",
          "text": [
            "1\n",
            "2\n",
            "3\n",
            "4\n"
          ],
          "name": "stdout"
        }
      ]
    },
    {
      "cell_type": "code",
      "metadata": {
        "id": "rWJK0wENsuaW",
        "colab_type": "code",
        "colab": {}
      },
      "source": [
        "i= 0\n",
        "while True   # 無窮迴圈 \n",
        "    print(i)\n",
        "    if i==4:\n",
        "        break\n",
        "    i = i + 1"
      ],
      "execution_count": 0,
      "outputs": []
    },
    {
      "cell_type": "code",
      "metadata": {
        "id": "RQg_lTveuY-2",
        "colab_type": "code",
        "colab": {
          "base_uri": "https://localhost:8080/",
          "height": 51
        },
        "outputId": "6ae39848-cfbd-4600-84e6-cd17c8d2d163"
      },
      "source": [
        "answer = \"b246\"\n",
        "\n",
        "while True:\n",
        "    password = input(\"Enter your passwaord? \")\n",
        "    if password == answer:\n",
        "        print(\"ENTER THE SYSTEM\")\n",
        "        break\n",
        "    else:\n",
        "        print(\"Try Again\")    "
      ],
      "execution_count": 6,
      "outputs": [
        {
          "output_type": "stream",
          "text": [
            "Enter your passwaord? b246\n",
            "ENTER THE SYSTEM\n"
          ],
          "name": "stdout"
        }
      ]
    },
    {
      "cell_type": "code",
      "metadata": {
        "id": "E5EUsT5-vgy-",
        "colab_type": "code",
        "colab": {
          "base_uri": "https://localhost:8080/",
          "height": 68
        },
        "outputId": "1fe42963-8ab6-4044-8fff-ce0db634f1b5"
      },
      "source": [
        "while True:\n",
        "    acc = input('請輸入帳號?')\n",
        "    pwd = input('請輸入密碼?')\n",
        "    if (acc== 'abc' and pwd == '123'):\n",
        "        print('帳號密碼正確')\n",
        "        break\n",
        "    else:\n",
        "        print('登入失敗')  "
      ],
      "execution_count": 9,
      "outputs": [
        {
          "output_type": "stream",
          "text": [
            "請輸入帳號?abc\n",
            "請輸入密碼?123\n",
            "帳號密碼正確\n"
          ],
          "name": "stdout"
        }
      ]
    }
  ]
}