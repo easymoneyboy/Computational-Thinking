{
  "nbformat": 4,
  "nbformat_minor": 0,
  "metadata": {
    "colab": {
      "name": "a108260015陳政霆 week16.ipynb",
      "provenance": [],
      "include_colab_link": true
    },
    "kernelspec": {
      "name": "python3",
      "display_name": "Python 3"
    }
  },
  "cells": [
    {
      "cell_type": "markdown",
      "metadata": {
        "id": "view-in-github",
        "colab_type": "text"
      },
      "source": [
        "<a href=\"https://colab.research.google.com/github/easymoneyboy/Computational-Thinking/blob/master/a108260015%E9%99%B3%E6%94%BF%E9%9C%86_week16.ipynb\" target=\"_parent\"><img src=\"https://colab.research.google.com/assets/colab-badge.svg\" alt=\"Open In Colab\"/></a>"
      ]
    },
    {
      "cell_type": "code",
      "metadata": {
        "id": "2QPm4i32q3Bz",
        "colab_type": "code",
        "outputId": "b8681959-3103-4c1d-c7a5-6a9fd0167578",
        "colab": {
          "base_uri": "https://localhost:8080/",
          "height": 85
        }
      },
      "source": [
        "i=1\n",
        "while(i<7):\n",
        "    print(i)\n",
        "    if  i ==4:\n",
        "        break\n",
        "    i = i + 1"
      ],
      "execution_count": 0,
      "outputs": [
        {
          "output_type": "stream",
          "text": [
            "1\n",
            "2\n",
            "3\n",
            "4\n"
          ],
          "name": "stdout"
        }
      ]
    },
    {
      "cell_type": "code",
      "metadata": {
        "id": "rWJK0wENsuaW",
        "colab_type": "code",
        "colab": {}
      },
      "source": [
        "i= 0\n",
        "while True   # 無窮迴圈 \n",
        "    print(i)\n",
        "    if i==4:\n",
        "        break\n",
        "    i = i + 1"
      ],
      "execution_count": 0,
      "outputs": []
    },
    {
      "cell_type": "code",
      "metadata": {
        "id": "RQg_lTveuY-2",
        "colab_type": "code",
        "outputId": "6ae39848-cfbd-4600-84e6-cd17c8d2d163",
        "colab": {
          "base_uri": "https://localhost:8080/",
          "height": 51
        }
      },
      "source": [
        "answer = \"b246\"\n",
        "\n",
        "while True:\n",
        "    password = input(\"Enter your passwaord? \")\n",
        "    if password == answer:\n",
        "        print(\"ENTER THE SYSTEM\")\n",
        "        break\n",
        "    else:\n",
        "        print(\"Try Again\")    "
      ],
      "execution_count": 0,
      "outputs": [
        {
          "output_type": "stream",
          "text": [
            "Enter your passwaord? b246\n",
            "ENTER THE SYSTEM\n"
          ],
          "name": "stdout"
        }
      ]
    },
    {
      "cell_type": "code",
      "metadata": {
        "id": "E5EUsT5-vgy-",
        "colab_type": "code",
        "outputId": "1fe42963-8ab6-4044-8fff-ce0db634f1b5",
        "colab": {
          "base_uri": "https://localhost:8080/",
          "height": 68
        }
      },
      "source": [
        "while True:\n",
        "    acc = input('請輸入帳號?')\n",
        "    pwd = input('請輸入密碼?')\n",
        "    if (acc== 'abc' and pwd == '123'):\n",
        "        print('帳號密碼正確')\n",
        "        break\n",
        "    else:\n",
        "        print('登入失敗')  "
      ],
      "execution_count": 0,
      "outputs": [
        {
          "output_type": "stream",
          "text": [
            "請輸入帳號?abc\n",
            "請輸入密碼?123\n",
            "帳號密碼正確\n"
          ],
          "name": "stdout"
        }
      ]
    },
    {
      "cell_type": "code",
      "metadata": {
        "id": "XVvlVZH03HfM",
        "colab_type": "code",
        "outputId": "a0b89f3c-6cf5-4714-bc8c-3216ce21de57",
        "colab": {
          "base_uri": "https://localhost:8080/",
          "height": 102
        }
      },
      "source": [
        "for i in range(5): #range和for計數迴圈搭配\n",
        "    print(i)"
      ],
      "execution_count": 0,
      "outputs": [
        {
          "output_type": "stream",
          "text": [
            "0\n",
            "1\n",
            "2\n",
            "3\n",
            "4\n"
          ],
          "name": "stdout"
        }
      ]
    },
    {
      "cell_type": "code",
      "metadata": {
        "id": "oaB0agFk5w2L",
        "colab_type": "code",
        "outputId": "892e87b4-6af4-4556-d05b-710f9ec7b0bc",
        "colab": {
          "base_uri": "https://localhost:8080/",
          "height": 68
        }
      },
      "source": [
        "for i in range(2,10,3):\n",
        "    print(i)"
      ],
      "execution_count": 0,
      "outputs": [
        {
          "output_type": "stream",
          "text": [
            "2\n",
            "5\n",
            "8\n"
          ],
          "name": "stdout"
        }
      ]
    },
    {
      "cell_type": "code",
      "metadata": {
        "id": "17GXd1-K6WEe",
        "colab_type": "code",
        "outputId": "3c8d18ec-03f0-4d63-b84f-218b4895d0cf",
        "colab": {
          "base_uri": "https://localhost:8080/",
          "height": 136
        }
      },
      "source": [
        "start = int(input(\"Enter a number? \"))\n",
        "end = int(input(\"enter a number?\"))\n",
        "step = int(input(\"enter a number?\"))\n",
        "\n",
        "sum = 0\n",
        "for i in range(start, end, step):\n",
        "    sum = sum + i\n",
        "    print(\"i is\", i, \"sum equals\",sum)"
      ],
      "execution_count": 0,
      "outputs": [
        {
          "output_type": "stream",
          "text": [
            "Enter a number? 3\n",
            "enter a number?13\n",
            "enter a number?3\n",
            "i is 3 sum equals 3\n",
            "i is 6 sum equals 9\n",
            "i is 9 sum equals 18\n",
            "i is 12 sum equals 30\n"
          ],
          "name": "stdout"
        }
      ]
    }
  ]
}